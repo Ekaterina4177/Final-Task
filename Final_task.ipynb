{
  "nbformat": 4,
  "nbformat_minor": 0,
  "metadata": {
    "colab": {
      "provenance": [],
      "authorship_tag": "ABX9TyNAeJP9AX53+jRI5Tz7mJnn",
      "include_colab_link": true
    },
    "kernelspec": {
      "name": "python3",
      "display_name": "Python 3"
    },
    "language_info": {
      "name": "python"
    },
    "accelerator": "GPU",
    "gpuClass": "standard"
  },
  "cells": [
    {
      "cell_type": "markdown",
      "metadata": {
        "id": "view-in-github",
        "colab_type": "text"
      },
      "source": [
        "<a href=\"https://colab.research.google.com/github/Ekaterina4177/Final-Task/blob/main/Final_task.ipynb\" target=\"_parent\"><img src=\"https://colab.research.google.com/assets/colab-badge.svg\" alt=\"Open In Colab\"/></a>"
      ]
    },
    {
      "cell_type": "markdown",
      "source": [
        "##Дана функция f(x) = x^3 - 6x^2 + 4x + 12\n",
        "Необходимо:\n",
        "1. Определить корни\n",
        "2. Найти интервалы, на которых функция возрастает\n",
        "3. Найти интервалы, на которых функция убывает\n",
        "4. Построить график\n",
        "5. Вычислить вершину\n",
        "6. Определить промежутки, на котором f > 0\n",
        "7. пределить промежутки, на котором f < 0\n",
        "8. Оформить работу с заголовками в Markdown."
      ],
      "metadata": {
        "id": "hD7JrxBelIhs"
      }
    },
    {
      "cell_type": "code",
      "source": [
        "pip install numpy"
      ],
      "metadata": {
        "id": "bOaxCS95ngHG"
      },
      "execution_count": null,
      "outputs": []
    },
    {
      "cell_type": "code",
      "source": [
        "pip install matplotlib"
      ],
      "metadata": {
        "id": "_lJ_6X7Zwn4O"
      },
      "execution_count": null,
      "outputs": []
    },
    {
      "cell_type": "code",
      "execution_count": null,
      "metadata": {
        "id": "Zx_qORkbk5iY"
      },
      "outputs": [],
      "source": [
        "import numpy as np \n",
        "from math import sqrt\n",
        "import matplotlib.pyplot as plt"
      ]
    },
    {
      "cell_type": "markdown",
      "source": [
        "f(x) = x^3 - 6x^2 + 4x + 12"
      ],
      "metadata": {
        "id": "UYGBOu7t55C2"
      }
    },
    {
      "cell_type": "markdown",
      "source": [
        "1. Определить корни"
      ],
      "metadata": {
        "id": "u7sfe2j7qazP"
      }
    },
    {
      "cell_type": "code",
      "source": [
        "a = np.roots([1, -6, 4, 12])\n",
        "a"
      ],
      "metadata": {
        "colab": {
          "base_uri": "https://localhost:8080/"
        },
        "id": "ciztLq38mcCV",
        "outputId": "c7342e14-9cc0-4fb0-f0f0-ccf93c8c2c1e"
      },
      "execution_count": null,
      "outputs": [
        {
          "output_type": "execute_result",
          "data": {
            "text/plain": [
              "array([ 4.5340702 ,  2.51730405, -1.05137424])"
            ]
          },
          "metadata": {},
          "execution_count": 93
        }
      ]
    },
    {
      "cell_type": "markdown",
      "source": [
        "2. Найти интервалы, на которых функция возрастает"
      ],
      "metadata": {
        "id": "NGbcH5tWqfzS"
      }
    },
    {
      "cell_type": "code",
      "source": [
        "y = [1, -6, 4, 12]"
      ],
      "metadata": {
        "id": "bukX-x_Ymb3r"
      },
      "execution_count": null,
      "outputs": []
    },
    {
      "cell_type": "code",
      "source": [
        "y1 = np.polyder(y)\n",
        "y1"
      ],
      "metadata": {
        "colab": {
          "base_uri": "https://localhost:8080/"
        },
        "id": "nNGurX0Sq86d",
        "outputId": "0d5e99f7-eaa5-4957-a248-06e752db845e"
      },
      "execution_count": null,
      "outputs": [
        {
          "output_type": "execute_result",
          "data": {
            "text/plain": [
              "array([  3, -12,   4])"
            ]
          },
          "metadata": {},
          "execution_count": 96
        }
      ]
    },
    {
      "cell_type": "code",
      "source": [
        "b = np.roots(np.polyder(y))\n",
        "b"
      ],
      "metadata": {
        "colab": {
          "base_uri": "https://localhost:8080/"
        },
        "id": "_LnEtb1ArJjF",
        "outputId": "8ff9ff16-5815-425a-f0cb-982622afeb0d"
      },
      "execution_count": null,
      "outputs": [
        {
          "output_type": "execute_result",
          "data": {
            "text/plain": [
              "array([3.63299316, 0.36700684])"
            ]
          },
          "metadata": {},
          "execution_count": 97
        }
      ]
    },
    {
      "cell_type": "code",
      "source": [
        "print(f'Функция возрастает на промежутках (-∞; {round(b[1],2)}) и ({round(b[0],2)}; +∞.)')"
      ],
      "metadata": {
        "colab": {
          "base_uri": "https://localhost:8080/"
        },
        "id": "snRDeKmPsgzu",
        "outputId": "bfa43b10-d84a-42cd-830a-ea33986ed88e"
      },
      "execution_count": null,
      "outputs": [
        {
          "output_type": "stream",
          "name": "stdout",
          "text": [
            "Функция возрастает на промежутках (-∞; 0.37) и (3.63; +∞.)\n"
          ]
        }
      ]
    },
    {
      "cell_type": "markdown",
      "source": [
        "3. Найти интервалы, на которых функция убывает"
      ],
      "metadata": {
        "id": "2OAz5oIputps"
      }
    },
    {
      "cell_type": "code",
      "source": [
        "print(f'Функция убывает на промежутке ({round(b[1],2)}; {round(b[0],2)})')"
      ],
      "metadata": {
        "colab": {
          "base_uri": "https://localhost:8080/"
        },
        "id": "GqlmCcNBu3eM",
        "outputId": "43eaa34f-2cc0-4079-9464-1da64e6c829b"
      },
      "execution_count": null,
      "outputs": [
        {
          "output_type": "stream",
          "name": "stdout",
          "text": [
            "Функция убывает на промежутке (0.37; 3.63)\n"
          ]
        }
      ]
    },
    {
      "cell_type": "markdown",
      "source": [
        "4. Построить график"
      ],
      "metadata": {
        "id": "cFiooTTzvLes"
      }
    },
    {
      "cell_type": "code",
      "source": [
        "z = list(np.arange(-2, 5.8, 0.1))\n",
        "fz = [ x ** 3 - 6 * x ** 2 + 4 * x + 12 for x in z]\n",
        "plt.axes(facecolor='white')\n",
        "plt.plot(z,fz)\n",
        "\n",
        "ax = plt.gca()   \n",
        "ax.axhline(y=0, color='k')    \n",
        "ax.axvline(x=0, color='k')\n",
        "\n",
        "plt.grid(visible='True', axis='x')\n",
        "\n",
        "plt.fill_between(z, fz)\n",
        "\n",
        "plt.show()"
      ],
      "metadata": {
        "colab": {
          "base_uri": "https://localhost:8080/",
          "height": 265
        },
        "id": "3YMCMdo3vNNV",
        "outputId": "b672e7a8-0417-455d-a740-f059237a799b"
      },
      "execution_count": null,
      "outputs": [
        {
          "output_type": "display_data",
          "data": {
            "text/plain": [
              "<Figure size 432x288 with 1 Axes>"
            ],
            "image/png": "[encoded data removed]"
          },
          "metadata": {
            "needs_background": "light"
          }
        }
      ]
    },
    {
      "cell_type": "code",
      "source": [
        "f2 = [3 * x ** 2 -12 * x + 4 for x in z]\n",
        "plt.axes(facecolor='white')\n",
        "plt.plot(z,fz)\n",
        "plt.plot(z,f2)\n",
        "\n",
        "ax = plt.gca()  \n",
        "ax.axhline(y=0, color='k')    \n",
        "ax.axvline(x=0, color='k')\n",
        "plt.grid(visible='True', axis='x')\n",
        "\n",
        "plt.fill_between(z, fz)\n",
        "\n",
        "plt.show()"
      ],
      "metadata": {
        "colab": {
          "base_uri": "https://localhost:8080/",
          "height": 265
        },
        "id": "EFxv_GXpxLlw",
        "outputId": "2d501794-181f-4030-cffb-4052a311bdd3"
      },
      "execution_count": null,
      "outputs": [
        {
          "output_type": "display_data",
          "data": {
            "text/plain": [
              "<Figure size 432x288 with 1 Axes>"
            ],
            "image/png": "[encoded data removed]"
          },
          "metadata": {
            "needs_background": "light"
          }
        }
      ]
    },
    {
      "cell_type": "markdown",
      "source": [
        "5. Вычисление вершины"
      ],
      "metadata": {
        "id": "ECErBym30R2_"
      }
    },
    {
      "cell_type": "code",
      "source": [
        "v = np.polyder(y1)\n",
        "v"
      ],
      "metadata": {
        "colab": {
          "base_uri": "https://localhost:8080/"
        },
        "id": "l1ae7WQv0Rc_",
        "outputId": "e968a543-d0b8-451a-92df-67f367e7af55"
      },
      "execution_count": null,
      "outputs": [
        {
          "output_type": "execute_result",
          "data": {
            "text/plain": [
              "array([  6, -12])"
            ]
          },
          "metadata": {},
          "execution_count": 69
        }
      ]
    },
    {
      "cell_type": "code",
      "source": [
        "top1 = 2\n",
        "top2 = top1 ** 3 - 6 * top1 ** 2 + 4 * top1 + 12\n",
        "print(f'Вершина функции в точке ({top1}, {top2})')"
      ],
      "metadata": {
        "colab": {
          "base_uri": "https://localhost:8080/"
        },
        "id": "Kmybpw5s1oca",
        "outputId": "aef573fd-580e-41c0-dccf-2254dffe08a6"
      },
      "execution_count": null,
      "outputs": [
        {
          "output_type": "stream",
          "name": "stdout",
          "text": [
            "Вершина функции в точке (2, 4)\n"
          ]
        }
      ]
    },
    {
      "cell_type": "markdown",
      "source": [
        "6. Определить промежутки, на котором f > 0"
      ],
      "metadata": {
        "id": "Jq01n9Pc2eQQ"
      }
    },
    {
      "cell_type": "code",
      "source": [
        "print(f'f(х) > 0 при х ({round(a[2], 2)}; {round(a[1], 2)}) и ({round(a[0], 2)}; +∞)')"
      ],
      "metadata": {
        "colab": {
          "base_uri": "https://localhost:8080/"
        },
        "id": "lU_pE93t2wmn",
        "outputId": "ab1eec62-7c7f-4ea3-b4fd-1e39398325e9"
      },
      "execution_count": null,
      "outputs": [
        {
          "output_type": "stream",
          "name": "stdout",
          "text": [
            "f(х) > 0 при х (-1.05; 2.52) и (4.53; +∞)\n"
          ]
        }
      ]
    },
    {
      "cell_type": "markdown",
      "source": [
        "7. Определить промежутки, на котором f < 0"
      ],
      "metadata": {
        "id": "n4wCetE-4Lj3"
      }
    },
    {
      "cell_type": "code",
      "source": [
        "print(f'f(х) < 0 при х (-∞: {round(a[2], 2)}) и ({round(a[1], 2)}; {round(a[0], 2)})')"
      ],
      "metadata": {
        "colab": {
          "base_uri": "https://localhost:8080/"
        },
        "id": "lHRiCfDF4KzH",
        "outputId": "d60523d9-b9d8-465e-b5bf-dadbbe749190"
      },
      "execution_count": null,
      "outputs": [
        {
          "output_type": "stream",
          "name": "stdout",
          "text": [
            "f(х) < 0 при х (-∞: -1.05) и (2.52; 4.53)\n"
          ]
        }
      ]
    }
  ]
}